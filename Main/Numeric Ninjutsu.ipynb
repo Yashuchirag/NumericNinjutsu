{
 "cells": [
  {
   "cell_type": "markdown",
   "metadata": {},
   "source": [
    "# NUMERIC NINJUTSU\n",
    "\n",
    "\n",
    "-Abhishek Limaye, Chirag Chandrashekar"
   ]
  },
  {
   "cell_type": "markdown",
   "metadata": {},
   "source": [
    "Numeric Ninjutsu is a code-breaking game in which players aim to deduce a secret sequence which is a 4-digit number by making guesses and receiving feedback in the form of hits (correct digits in the correct position) and strikes (correct digits in the wrong position)."
   ]
  },
  {
   "cell_type": "code",
   "execution_count": 1,
   "metadata": {},
   "outputs": [],
   "source": [
    "import random"
   ]
  },
  {
   "cell_type": "markdown",
   "metadata": {},
   "source": [
    "In the following function we would check the below constraints and generate a dataset of points satisfying the constraints:\n",
    "1. The number should not start with 0\n",
    "2. No digit should be repeated"
   ]
  },
  {
   "cell_type": "code",
   "execution_count": 2,
   "metadata": {},
   "outputs": [],
   "source": [
    "def number_generator():\n",
    "    non_repeat=[]\n",
    "    repeat=[]\n",
    "    \n",
    "    #Considering numbers above 1000 so that no number starting with 0 would be selected\n",
    "    for a in range (1000,10000): \n",
    "        c= []\n",
    "        b=0\n",
    "        for i in str(a):\n",
    "            try:\n",
    "                x=c.index(i)\n",
    "                b=b+1\n",
    "                repeat.append(str(a))\n",
    "                break\n",
    "            except:\n",
    "                c.append(i)\n",
    "        if b==0:\n",
    "            non_repeat.append(str(a))\n",
    "        else: continue\n",
    "    return non_repeat"
   ]
  },
  {
   "cell_type": "code",
   "execution_count": 4,
   "metadata": {
    "scrolled": false
   },
   "outputs": [
    {
     "name": "stdout",
     "output_type": "stream",
     "text": [
      "\n",
      "The number of possible data points =  4536\n"
     ]
    }
   ],
   "source": [
    "# print(number_generator())     #uncomment this to see all the possible data points\n",
    "print('\\nThe number of possible data points = ',len(number_generator()))"
   ]
  },
  {
   "cell_type": "markdown",
   "metadata": {},
   "source": [
    "The following function would return the number of hits and strikes by comparing the number in the 2nd argument with the one in the first argument."
   ]
  },
  {
   "cell_type": "code",
   "execution_count": 5,
   "metadata": {
    "scrolled": false
   },
   "outputs": [],
   "source": [
    "def get_strikes_hits(secret_number, guess):\n",
    "    strikes, hits = 0, 0\n",
    "    for i, digit in enumerate(guess):\n",
    "        if digit == secret_number[i]:\n",
    "            hits += 1\n",
    "        elif digit in secret_number:\n",
    "            strikes += 1\n",
    "    return hits, strikes"
   ]
  },
  {
   "cell_type": "markdown",
   "metadata": {},
   "source": [
    "## Numeric Ninjutsu Game\n",
    "\n",
    "Here is the implementation of the game where user is the player and the system is the game master."
   ]
  },
  {
   "cell_type": "code",
   "execution_count": 6,
   "metadata": {},
   "outputs": [],
   "source": [
    "def ninjutsu(num):\n",
    "    #Validating input\n",
    "    print('Welcome to Numeric Ninjutsu\\nPress space to exit\\n')\n",
    "    attempt = 0\n",
    "    while True:\n",
    "        attempt += 1\n",
    "        print('Attempt',attempt,':')\n",
    "        x= input('Enter a 4 digit number: ')\n",
    "        if x==' ':\n",
    "            print('Bye!')\n",
    "            break\n",
    "        guess=[]                             #This will store non-repeated digits from the entered number   \n",
    "        hit=0\n",
    "        strike=0\n",
    "        b=0                                  #flag to check input validity \n",
    "        if len(x)!=4 or x[0]=='0':\n",
    "            b=b+1\n",
    "            print('Invalid Input\\n')         #Checks if the input length is not 4 or the first digit is 0\n",
    "            attempt -= 1\n",
    "        else:\n",
    "            for i in str(x):\n",
    "                if not i.isdigit():\n",
    "                    b=b+1\n",
    "                    print('Invalid Input\\n') #Checks if the input is not a digit\n",
    "                    attempt -= 1\n",
    "                    break\n",
    "                try:\n",
    "                    y=guess.index(i)             #If index found, that means the digit is repeated\n",
    "                    b=b+1\n",
    "                    print('Invalid Input\\n') #Checks if the input digits are repeated\n",
    "                    attempt -= 1\n",
    "                    break\n",
    "                except:                      #Index not found, that means the digit is non-repeated\n",
    "                    guess.append(i)\n",
    "        if b==0:                             #This means the input is valid\n",
    "            hit,strike = get_strikes_hits(num, guess)\n",
    "            if hit==4:\n",
    "                print(f'\\nSecret number {num} found in {attempt} attempts.')\n",
    "                break\n",
    "            else:\n",
    "                print(hit,'Hits and',strike,'Strikes\\n')\n",
    "                continue"
   ]
  },
  {
   "cell_type": "code",
   "execution_count": 9,
   "metadata": {},
   "outputs": [
    {
     "name": "stdout",
     "output_type": "stream",
     "text": [
      "Welcome to Numeric Ninjutsu\n",
      "Press space to exit\n",
      "\n",
      "Attempt 1 :\n",
      "Enter a 4 digit number: 1357\n",
      "3 Hits and 0 Strikes\n",
      "\n",
      "Attempt 2 :\n",
      "Enter a 4 digit number: 3185\n",
      "0 Hits and 3 Strikes\n",
      "\n",
      "Attempt 3 :\n",
      "Enter a 4 digit number: 1354\n",
      "3 Hits and 0 Strikes\n",
      "\n",
      "Attempt 4 :\n",
      "Enter a 4 digit number: 1352\n",
      "\n",
      "Secret number 1352 found in 4 attempts.\n"
     ]
    }
   ],
   "source": [
    "secret_number=random.choice(number_generator())\n",
    "#print(secret_number)       #Can be used for quick validation\n",
    "ninjutsu(secret_number)"
   ]
  },
  {
   "cell_type": "markdown",
   "metadata": {},
   "source": [
    "## Numeric Ninjutsu Solver\n",
    "\n",
    "Here is the implementation of the game as a Constraint Satisfaction Problem where user is the game master and the system is the player."
   ]
  },
  {
   "cell_type": "code",
   "execution_count": 12,
   "metadata": {
    "scrolled": false
   },
   "outputs": [],
   "source": [
    "def solve_ninjutsu():\n",
    "    possible_answers = number_generator()\n",
    "    attempts = 0\n",
    "\n",
    "    while True:\n",
    "        guess = possible_answers[0]\n",
    "        attempts += 1\n",
    "        print('Attempt: ',attempts)\n",
    "        print(guess)\n",
    "        print(' ')\n",
    "        hits = input('Hits: ')\n",
    "        strikes = input('Strikes: ')\n",
    "        try:\n",
    "            hits= int(hits)\n",
    "            strikes= int(strikes)\n",
    "        except:\n",
    "            print(\"Invalid Combination\\n\")\n",
    "            attempts -= 1\n",
    "            continue\n",
    "    \n",
    "        if (hits == 3 and strikes == 1) or hits > 4 or strikes > 4 or (hits+strikes > 4) or hits < 0 or strikes < 0 : \n",
    "            print(\"Invalid Combination\\n\")\n",
    "            attempts -= 1\n",
    "            continue\n",
    "\n",
    "        if hits == 4 :\n",
    "            print(f\"\\nSecret number {guess} found in {attempts} attempts.\")\n",
    "            break\n",
    "        \n",
    "        #Remove impossible answers based on the current guess\n",
    "        possible_answers = [\n",
    "            ans for ans in possible_answers\n",
    "            if get_strikes_hits(ans, guess) == (hits, strikes)\n",
    "        ]\n",
    "        \n",
    "        #Uncomment below code to see the remaining possible answers after each guess\n",
    "        print ('possible_answers: ',possible_answers)\n",
    "        print (' ')\n",
    "        \n",
    "        if len(possible_answers) == 1 :       #If only one possible answer left, then that is the solution.\n",
    "            print('Attempt: ',attempts+1)\n",
    "            print(possible_answers[0])\n",
    "            print(f\"\\nSecret number {possible_answers[0]} found in {attempts+1} attempts.\")\n",
    "            break\n",
    "        if not possible_answers:\n",
    "            print(\"No possible answers left!\")\n",
    "            break"
   ]
  },
  {
   "cell_type": "code",
   "execution_count": 13,
   "metadata": {
    "scrolled": false
   },
   "outputs": [
    {
     "name": "stdout",
     "output_type": "stream",
     "text": [
      "Attempt:  1\n",
      "1023\n",
      " \n",
      "Hits: 1\n",
      "Strikes: 2\n",
      "possible_answers:  ['1204', '1205', '1206', '1207', '1208', '1209', '1234', '1235', '1236', '1237', '1238', '1239', '1240', '1250', '1260', '1270', '1280', '1290', '1304', '1305', '1306', '1307', '1308', '1309', '1340', '1342', '1350', '1352', '1360', '1362', '1370', '1372', '1380', '1382', '1390', '1392', '1402', '1430', '1432', '1502', '1530', '1532', '1602', '1630', '1632', '1702', '1730', '1732', '1802', '1830', '1832', '1902', '1930', '1932', '2014', '2015', '2016', '2017', '2018', '2019', '2034', '2035', '2036', '2037', '2038', '2039', '2041', '2051', '2061', '2071', '2081', '2091', '2143', '2153', '2163', '2173', '2183', '2193', '2403', '2413', '2503', '2513', '2603', '2613', '2703', '2713', '2803', '2813', '2903', '2913', '3014', '3015', '3016', '3017', '3018', '3019', '3041', '3042', '3051', '3052', '3061', '3062', '3071', '3072', '3081', '3082', '3091', '3092', '3124', '3125', '3126', '3127', '3128', '3129', '3420', '3421', '3520', '3521', '3620', '3621', '3720', '3721', '3820', '3821', '3920', '3921', '4012', '4031', '4032', '4103', '4120', '4203', '4213', '4320', '4321', '5012', '5031', '5032', '5103', '5120', '5203', '5213', '5320', '5321', '6012', '6031', '6032', '6103', '6120', '6203', '6213', '6320', '6321', '7012', '7031', '7032', '7103', '7120', '7203', '7213', '7320', '7321', '8012', '8031', '8032', '8103', '8120', '8203', '8213', '8320', '8321', '9012', '9031', '9032', '9103', '9120', '9203', '9213', '9320', '9321']\n",
      " \n",
      "Attempt:  2\n",
      "1204\n",
      " \n",
      "Hits: 3\n",
      "Strikes: 0\n",
      "possible_answers:  ['1205', '1206', '1207', '1208', '1209', '1234', '1304']\n",
      " \n",
      "Attempt:  3\n",
      "1205\n",
      " \n",
      "Hits: 2\n",
      "Strikes: 0\n",
      "possible_answers:  ['1234', '1304']\n",
      " \n",
      "Attempt:  4\n",
      "1234\n",
      " \n",
      "Hits: 4\n",
      "Strikes: 0\n",
      "\n",
      "Secret number 1234 found in 4 attempts.\n"
     ]
    }
   ],
   "source": [
    "solve_ninjutsu()"
   ]
  },
  {
   "cell_type": "markdown",
   "metadata": {},
   "source": [
    "## Thank You!"
   ]
  }
 ],
 "metadata": {
  "kernelspec": {
   "display_name": "Python 3 (ipykernel)",
   "language": "python",
   "name": "python3"
  },
  "language_info": {
   "codemirror_mode": {
    "name": "ipython",
    "version": 3
   },
   "file_extension": ".py",
   "mimetype": "text/x-python",
   "name": "python",
   "nbconvert_exporter": "python",
   "pygments_lexer": "ipython3",
   "version": "3.9.13"
  }
 },
 "nbformat": 4,
 "nbformat_minor": 2
}
